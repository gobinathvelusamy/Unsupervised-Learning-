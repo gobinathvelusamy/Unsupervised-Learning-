{
 "cells": [
  {
   "cell_type": "code",
   "execution_count": 1,
   "id": "af8bf4de",
   "metadata": {},
   "outputs": [],
   "source": [
    "import pandas as pd\n",
    "import numpy as np\n",
    "import seaborn as sns;\n",
    "from sklearn import metrics\n",
    "import matplotlib.pyplot as plt\n",
    "%matplotlib inline\n",
    "from sklearn.model_selection  import train_test_split\n",
    "from sklearn.metrics import classification_report\n",
    "from sklearn.metrics import confusion_matrix\n",
    "from sklearn.metrics import accuracy_score\n",
    "from sklearn.cluster import KMeans\n",
    "from scipy.stats import zscore\n",
    "from sklearn.svm import SVC\n",
    "from sklearn import svm\n",
    "from sklearn.decomposition import PCA"
   ]
  },
  {
   "cell_type": "markdown",
   "id": "5be11789",
   "metadata": {},
   "source": [
    "# 1. Data Understanding & Cleaning"
   ]
  },
  {
   "cell_type": "markdown",
   "id": "625c5a70",
   "metadata": {},
   "source": [
    "A. Read ‘vehicle.csv’ and save as DataFram"
   ]
  },
  {
   "cell_type": "code",
   "execution_count": 2,
   "id": "cfbd405b",
   "metadata": {},
   "outputs": [],
   "source": [
    "df=pd.read_csv(\"vehicle.csv\")"
   ]
  },
  {
   "cell_type": "code",
   "execution_count": 3,
   "id": "845fa02e",
   "metadata": {},
   "outputs": [
    {
     "name": "stdout",
     "output_type": "stream",
     "text": [
      "<class 'pandas.core.frame.DataFrame'>\n",
      "RangeIndex: 846 entries, 0 to 845\n",
      "Data columns (total 19 columns):\n",
      " #   Column                       Non-Null Count  Dtype  \n",
      "---  ------                       --------------  -----  \n",
      " 0   compactness                  846 non-null    int64  \n",
      " 1   circularity                  841 non-null    float64\n",
      " 2   distance_circularity         842 non-null    float64\n",
      " 3   radius_ratio                 840 non-null    float64\n",
      " 4   pr.axis_aspect_ratio         844 non-null    float64\n",
      " 5   max.length_aspect_ratio      846 non-null    int64  \n",
      " 6   scatter_ratio                845 non-null    float64\n",
      " 7   elongatedness                845 non-null    float64\n",
      " 8   pr.axis_rectangularity       843 non-null    float64\n",
      " 9   max.length_rectangularity    846 non-null    int64  \n",
      " 10  scaled_variance              843 non-null    float64\n",
      " 11  scaled_variance.1            844 non-null    float64\n",
      " 12  scaled_radius_of_gyration    844 non-null    float64\n",
      " 13  scaled_radius_of_gyration.1  842 non-null    float64\n",
      " 14  skewness_about               840 non-null    float64\n",
      " 15  skewness_about.1             845 non-null    float64\n",
      " 16  skewness_about.2             845 non-null    float64\n",
      " 17  hollows_ratio                846 non-null    int64  \n",
      " 18  class                        846 non-null    object \n",
      "dtypes: float64(14), int64(4), object(1)\n",
      "memory usage: 125.7+ KB\n"
     ]
    }
   ],
   "source": [
    "df.info()"
   ]
  },
  {
   "cell_type": "code",
   "execution_count": 4,
   "id": "b35b4f54",
   "metadata": {},
   "outputs": [
    {
     "data": {
      "text/plain": [
       "(846, 19)"
      ]
     },
     "execution_count": 4,
     "metadata": {},
     "output_type": "execute_result"
    }
   ],
   "source": [
    "df.shape"
   ]
  },
  {
   "cell_type": "markdown",
   "id": "2159a44e",
   "metadata": {},
   "source": [
    "1.B. Check percentage of missing values and impute with correct approach."
   ]
  },
  {
   "cell_type": "code",
   "execution_count": 5,
   "id": "fd96628a",
   "metadata": {},
   "outputs": [
    {
     "data": {
      "text/plain": [
       "compactness                    0.000000\n",
       "circularity                    0.591017\n",
       "distance_circularity           0.472813\n",
       "radius_ratio                   0.709220\n",
       "pr.axis_aspect_ratio           0.236407\n",
       "max.length_aspect_ratio        0.000000\n",
       "scatter_ratio                  0.118203\n",
       "elongatedness                  0.118203\n",
       "pr.axis_rectangularity         0.354610\n",
       "max.length_rectangularity      0.000000\n",
       "scaled_variance                0.354610\n",
       "scaled_variance.1              0.236407\n",
       "scaled_radius_of_gyration      0.236407\n",
       "scaled_radius_of_gyration.1    0.472813\n",
       "skewness_about                 0.709220\n",
       "skewness_about.1               0.118203\n",
       "skewness_about.2               0.118203\n",
       "hollows_ratio                  0.000000\n",
       "class                          0.000000\n",
       "dtype: float64"
      ]
     },
     "execution_count": 5,
     "metadata": {},
     "output_type": "execute_result"
    }
   ],
   "source": [
    "df.isnull().sum() / df.shape[0] * 100.00"
   ]
  },
  {
   "cell_type": "code",
   "execution_count": 6,
   "id": "b190618a",
   "metadata": {},
   "outputs": [
    {
     "name": "stderr",
     "output_type": "stream",
     "text": [
      "/var/folders/7p/5k1s0qxj2mn1kmk2d_npxq8r0000gn/T/ipykernel_18818/530051474.py:1: FutureWarning: Dropping of nuisance columns in DataFrame reductions (with 'numeric_only=None') is deprecated; in a future version this will raise TypeError.  Select only valid columns before calling the reduction.\n",
      "  df.median()\n"
     ]
    },
    {
     "data": {
      "text/plain": [
       "compactness                     93.0\n",
       "circularity                     44.0\n",
       "distance_circularity            80.0\n",
       "radius_ratio                   167.0\n",
       "pr.axis_aspect_ratio            61.0\n",
       "max.length_aspect_ratio          8.0\n",
       "scatter_ratio                  157.0\n",
       "elongatedness                   43.0\n",
       "pr.axis_rectangularity          20.0\n",
       "max.length_rectangularity      146.0\n",
       "scaled_variance                179.0\n",
       "scaled_variance.1              363.5\n",
       "scaled_radius_of_gyration      173.5\n",
       "scaled_radius_of_gyration.1     71.5\n",
       "skewness_about                   6.0\n",
       "skewness_about.1                11.0\n",
       "skewness_about.2               188.0\n",
       "hollows_ratio                  197.0\n",
       "dtype: float64"
      ]
     },
     "execution_count": 6,
     "metadata": {},
     "output_type": "execute_result"
    }
   ],
   "source": [
    "df.median()"
   ]
  },
  {
   "cell_type": "code",
   "execution_count": 7,
   "id": "5343af8a",
   "metadata": {},
   "outputs": [],
   "source": [
    "# function to replace missing values with median values\n",
    "def impute_with_median (df):\n",
    "#    \"\"\"Iterate through columns of Pandas DataFrame.\n",
    "#    Where NaNs exist replace with median\"\"\"\n",
    "    \n",
    "   # Get list of DataFrame column names\n",
    "    cols = list(df)\n",
    "    # Loop through columns\n",
    "    for column in cols:\n",
    "        # Transfer column to independent series\n",
    "        col_data = df[column]\n",
    "        # Look to see if there is any missing numerical data\n",
    "        missing_data = sum(col_data.isna())\n",
    "        if missing_data > 0:\n",
    "            # Get median and replace missing numerical data with median\n",
    "            col_median = col_data.median()\n",
    "            col_data.fillna(col_median, inplace=True)\n",
    "            df[column] = col_data\n",
    "    return df  "
   ]
  },
  {
   "cell_type": "code",
   "execution_count": 8,
   "id": "d94e3a1b",
   "metadata": {},
   "outputs": [],
   "source": [
    "df1=impute_with_median (df)"
   ]
  },
  {
   "cell_type": "code",
   "execution_count": 9,
   "id": "9cfff240",
   "metadata": {},
   "outputs": [
    {
     "data": {
      "text/plain": [
       "compactness                    0.0\n",
       "circularity                    0.0\n",
       "distance_circularity           0.0\n",
       "radius_ratio                   0.0\n",
       "pr.axis_aspect_ratio           0.0\n",
       "max.length_aspect_ratio        0.0\n",
       "scatter_ratio                  0.0\n",
       "elongatedness                  0.0\n",
       "pr.axis_rectangularity         0.0\n",
       "max.length_rectangularity      0.0\n",
       "scaled_variance                0.0\n",
       "scaled_variance.1              0.0\n",
       "scaled_radius_of_gyration      0.0\n",
       "scaled_radius_of_gyration.1    0.0\n",
       "skewness_about                 0.0\n",
       "skewness_about.1               0.0\n",
       "skewness_about.2               0.0\n",
       "hollows_ratio                  0.0\n",
       "class                          0.0\n",
       "dtype: float64"
      ]
     },
     "execution_count": 9,
     "metadata": {},
     "output_type": "execute_result"
    }
   ],
   "source": [
    "df1.isnull().sum() / df.shape[0] * 100.00"
   ]
  },
  {
   "cell_type": "markdown",
   "id": "d8d9097e",
   "metadata": {},
   "source": [
    "C. Visualize a Pie-chart and print percentage of values for variable ‘class’. "
   ]
  },
  {
   "cell_type": "code",
   "execution_count": 10,
   "id": "80656188",
   "metadata": {},
   "outputs": [
    {
     "data": {
      "image/png": "[encoded data removed]",
      "text/plain": [
       "<Figure size 1224x504 with 2 Axes>"
      ]
     },
     "metadata": {
      "needs_background": "light"
     },
     "output_type": "display_data"
    }
   ],
   "source": [
    "f,axes=plt.subplots(1,2,figsize=(17,7))\n",
    "df['class'].value_counts().plot.pie(autopct='%1.1f%%',ax=axes[0],shadow=True)\n",
    "axes[0].set_title('class Variable Pie Chart')\n",
    "axes[1].set_axis_off()\n",
    "plt.subplots_adjust(wspace=1)\n",
    "plt.show()"
   ]
  },
  {
   "cell_type": "markdown",
   "id": "c45e88ee",
   "metadata": {},
   "source": [
    "1.D. Check for duplicate rows in the data and impute with correct approach."
   ]
  },
  {
   "cell_type": "code",
   "execution_count": 11,
   "id": "830f95e4",
   "metadata": {},
   "outputs": [
    {
     "data": {
      "text/html": [
       "<div>\n",
       "<style scoped>\n",
       "    .dataframe tbody tr th:only-of-type {\n",
       "        vertical-align: middle;\n",
       "    }\n",
       "\n",
       "    .dataframe tbody tr th {\n",
       "        vertical-align: top;\n",
       "    }\n",
       "\n",
       "    .dataframe thead th {\n",
       "        text-align: right;\n",
       "    }\n",
       "</style>\n",
       "<table border=\"1\" class=\"dataframe\">\n",
       "  <thead>\n",
       "    <tr style=\"text-align: right;\">\n",
       "      <th></th>\n",
       "      <th>compactness</th>\n",
       "      <th>circularity</th>\n",
       "      <th>distance_circularity</th>\n",
       "      <th>radius_ratio</th>\n",
       "      <th>pr.axis_aspect_ratio</th>\n",
       "      <th>max.length_aspect_ratio</th>\n",
       "      <th>scatter_ratio</th>\n",
       "      <th>elongatedness</th>\n",
       "      <th>pr.axis_rectangularity</th>\n",
       "      <th>max.length_rectangularity</th>\n",
       "      <th>scaled_variance</th>\n",
       "      <th>scaled_variance.1</th>\n",
       "      <th>scaled_radius_of_gyration</th>\n",
       "      <th>scaled_radius_of_gyration.1</th>\n",
       "      <th>skewness_about</th>\n",
       "      <th>skewness_about.1</th>\n",
       "      <th>skewness_about.2</th>\n",
       "      <th>hollows_ratio</th>\n",
       "      <th>class</th>\n",
       "    </tr>\n",
       "  </thead>\n",
       "  <tbody>\n",
       "  </tbody>\n",
       "</table>\n",
       "</div>"
      ],
      "text/plain": [
       "Empty DataFrame\n",
       "Columns: [compactness, circularity, distance_circularity, radius_ratio, pr.axis_aspect_ratio, max.length_aspect_ratio, scatter_ratio, elongatedness, pr.axis_rectangularity, max.length_rectangularity, scaled_variance, scaled_variance.1, scaled_radius_of_gyration, scaled_radius_of_gyration.1, skewness_about, skewness_about.1, skewness_about.2, hollows_ratio, class]\n",
       "Index: []"
      ]
     },
     "execution_count": 11,
     "metadata": {},
     "output_type": "execute_result"
    }
   ],
   "source": [
    "duplicate = df[df.duplicated()]\n",
    "duplicate"
   ]
  },
  {
   "cell_type": "markdown",
   "id": "f7cea973",
   "metadata": {},
   "source": [
    "There is no duplicate in Data"
   ]
  },
  {
   "cell_type": "markdown",
   "id": "7696167a",
   "metadata": {},
   "source": [
    "# 2. Data Preparation"
   ]
  },
  {
   "cell_type": "markdown",
   "id": "3cf6754f",
   "metadata": {},
   "source": [
    "2.A. Split data into X and Y. [Train and Test optional] "
   ]
  },
  {
   "cell_type": "code",
   "execution_count": 12,
   "id": "b1fb4101",
   "metadata": {},
   "outputs": [],
   "source": [
    "# Arrange data into independent variables and dependent variables\n",
    "X=df1.drop(columns=['class'])\n",
    "y=df1['class'] #target"
   ]
  },
  {
   "cell_type": "markdown",
   "id": "d2ae0237",
   "metadata": {},
   "source": [
    "2.B. Standardize the Data (Z Score scale  of Features )"
   ]
  },
  {
   "cell_type": "code",
   "execution_count": 13,
   "id": "afaf9db8",
   "metadata": {},
   "outputs": [
    {
     "data": {
      "text/html": [
       "<div>\n",
       "<style scoped>\n",
       "    .dataframe tbody tr th:only-of-type {\n",
       "        vertical-align: middle;\n",
       "    }\n",
       "\n",
       "    .dataframe tbody tr th {\n",
       "        vertical-align: top;\n",
       "    }\n",
       "\n",
       "    .dataframe thead th {\n",
       "        text-align: right;\n",
       "    }\n",
       "</style>\n",
       "<table border=\"1\" class=\"dataframe\">\n",
       "  <thead>\n",
       "    <tr style=\"text-align: right;\">\n",
       "      <th></th>\n",
       "      <th>compactness</th>\n",
       "      <th>circularity</th>\n",
       "      <th>distance_circularity</th>\n",
       "      <th>radius_ratio</th>\n",
       "      <th>pr.axis_aspect_ratio</th>\n",
       "      <th>max.length_aspect_ratio</th>\n",
       "      <th>scatter_ratio</th>\n",
       "      <th>elongatedness</th>\n",
       "      <th>pr.axis_rectangularity</th>\n",
       "      <th>max.length_rectangularity</th>\n",
       "      <th>scaled_variance</th>\n",
       "      <th>scaled_variance.1</th>\n",
       "      <th>scaled_radius_of_gyration</th>\n",
       "      <th>scaled_radius_of_gyration.1</th>\n",
       "      <th>skewness_about</th>\n",
       "      <th>skewness_about.1</th>\n",
       "      <th>skewness_about.2</th>\n",
       "      <th>hollows_ratio</th>\n",
       "    </tr>\n",
       "  </thead>\n",
       "  <tbody>\n",
       "    <tr>\n",
       "      <th>0</th>\n",
       "      <td>0.160580</td>\n",
       "      <td>0.518073</td>\n",
       "      <td>0.057177</td>\n",
       "      <td>0.273363</td>\n",
       "      <td>1.310398</td>\n",
       "      <td>0.311542</td>\n",
       "      <td>-0.207598</td>\n",
       "      <td>0.136262</td>\n",
       "      <td>-0.224342</td>\n",
       "      <td>0.758332</td>\n",
       "      <td>-0.401920</td>\n",
       "      <td>-0.341934</td>\n",
       "      <td>0.285705</td>\n",
       "      <td>-0.327326</td>\n",
       "      <td>-0.073812</td>\n",
       "      <td>0.380870</td>\n",
       "      <td>-0.312012</td>\n",
       "      <td>0.183957</td>\n",
       "    </tr>\n",
       "    <tr>\n",
       "      <th>1</th>\n",
       "      <td>-0.325470</td>\n",
       "      <td>-0.623732</td>\n",
       "      <td>0.120741</td>\n",
       "      <td>-0.835032</td>\n",
       "      <td>-0.593753</td>\n",
       "      <td>0.094079</td>\n",
       "      <td>-0.599423</td>\n",
       "      <td>0.520519</td>\n",
       "      <td>-0.610886</td>\n",
       "      <td>-0.344578</td>\n",
       "      <td>-0.593357</td>\n",
       "      <td>-0.619724</td>\n",
       "      <td>-0.513630</td>\n",
       "      <td>-0.059384</td>\n",
       "      <td>0.538390</td>\n",
       "      <td>0.156798</td>\n",
       "      <td>0.013265</td>\n",
       "      <td>0.452977</td>\n",
       "    </tr>\n",
       "    <tr>\n",
       "      <th>2</th>\n",
       "      <td>1.254193</td>\n",
       "      <td>0.844303</td>\n",
       "      <td>1.519141</td>\n",
       "      <td>1.202018</td>\n",
       "      <td>0.548738</td>\n",
       "      <td>0.311542</td>\n",
       "      <td>1.148719</td>\n",
       "      <td>-1.144597</td>\n",
       "      <td>0.935290</td>\n",
       "      <td>0.689401</td>\n",
       "      <td>1.097671</td>\n",
       "      <td>1.109379</td>\n",
       "      <td>1.392477</td>\n",
       "      <td>0.074587</td>\n",
       "      <td>1.558727</td>\n",
       "      <td>-0.403383</td>\n",
       "      <td>-0.149374</td>\n",
       "      <td>0.049447</td>\n",
       "    </tr>\n",
       "    <tr>\n",
       "      <th>3</th>\n",
       "      <td>-0.082445</td>\n",
       "      <td>-0.623732</td>\n",
       "      <td>-0.006386</td>\n",
       "      <td>-0.295813</td>\n",
       "      <td>0.167907</td>\n",
       "      <td>0.094079</td>\n",
       "      <td>-0.750125</td>\n",
       "      <td>0.648605</td>\n",
       "      <td>-0.610886</td>\n",
       "      <td>-0.344578</td>\n",
       "      <td>-0.912419</td>\n",
       "      <td>-0.738777</td>\n",
       "      <td>-1.466683</td>\n",
       "      <td>-1.265121</td>\n",
       "      <td>-0.073812</td>\n",
       "      <td>-0.291347</td>\n",
       "      <td>1.639649</td>\n",
       "      <td>1.529056</td>\n",
       "    </tr>\n",
       "    <tr>\n",
       "      <th>4</th>\n",
       "      <td>-1.054545</td>\n",
       "      <td>-0.134387</td>\n",
       "      <td>-0.769150</td>\n",
       "      <td>1.082192</td>\n",
       "      <td>5.245643</td>\n",
       "      <td>9.444962</td>\n",
       "      <td>-0.599423</td>\n",
       "      <td>0.520519</td>\n",
       "      <td>-0.610886</td>\n",
       "      <td>-0.275646</td>\n",
       "      <td>1.671982</td>\n",
       "      <td>-0.648070</td>\n",
       "      <td>0.408680</td>\n",
       "      <td>7.309005</td>\n",
       "      <td>0.538390</td>\n",
       "      <td>-0.179311</td>\n",
       "      <td>-1.450481</td>\n",
       "      <td>-1.699181</td>\n",
       "    </tr>\n",
       "  </tbody>\n",
       "</table>\n",
       "</div>"
      ],
      "text/plain": [
       "   compactness  circularity  distance_circularity  radius_ratio  \\\n",
       "0     0.160580     0.518073              0.057177      0.273363   \n",
       "1    -0.325470    -0.623732              0.120741     -0.835032   \n",
       "2     1.254193     0.844303              1.519141      1.202018   \n",
       "3    -0.082445    -0.623732             -0.006386     -0.295813   \n",
       "4    -1.054545    -0.134387             -0.769150      1.082192   \n",
       "\n",
       "   pr.axis_aspect_ratio  max.length_aspect_ratio  scatter_ratio  \\\n",
       "0              1.310398                 0.311542      -0.207598   \n",
       "1             -0.593753                 0.094079      -0.599423   \n",
       "2              0.548738                 0.311542       1.148719   \n",
       "3              0.167907                 0.094079      -0.750125   \n",
       "4              5.245643                 9.444962      -0.599423   \n",
       "\n",
       "   elongatedness  pr.axis_rectangularity  max.length_rectangularity  \\\n",
       "0       0.136262               -0.224342                   0.758332   \n",
       "1       0.520519               -0.610886                  -0.344578   \n",
       "2      -1.144597                0.935290                   0.689401   \n",
       "3       0.648605               -0.610886                  -0.344578   \n",
       "4       0.520519               -0.610886                  -0.275646   \n",
       "\n",
       "   scaled_variance  scaled_variance.1  scaled_radius_of_gyration  \\\n",
       "0        -0.401920          -0.341934                   0.285705   \n",
       "1        -0.593357          -0.619724                  -0.513630   \n",
       "2         1.097671           1.109379                   1.392477   \n",
       "3        -0.912419          -0.738777                  -1.466683   \n",
       "4         1.671982          -0.648070                   0.408680   \n",
       "\n",
       "   scaled_radius_of_gyration.1  skewness_about  skewness_about.1  \\\n",
       "0                    -0.327326       -0.073812          0.380870   \n",
       "1                    -0.059384        0.538390          0.156798   \n",
       "2                     0.074587        1.558727         -0.403383   \n",
       "3                    -1.265121       -0.073812         -0.291347   \n",
       "4                     7.309005        0.538390         -0.179311   \n",
       "\n",
       "   skewness_about.2  hollows_ratio  \n",
       "0         -0.312012       0.183957  \n",
       "1          0.013265       0.452977  \n",
       "2         -0.149374       0.049447  \n",
       "3          1.639649       1.529056  \n",
       "4         -1.450481      -1.699181  "
      ]
     },
     "execution_count": 13,
     "metadata": {},
     "output_type": "execute_result"
    }
   ],
   "source": [
    "XScaled=X.apply(zscore)\n",
    "XScaled.head()"
   ]
  },
  {
   "cell_type": "code",
   "execution_count": 14,
   "id": "43f82049",
   "metadata": {},
   "outputs": [],
   "source": [
    "# Split X and y into training and test set in 75:25 ratio\n",
    "X_train, X_test, y_train, y_test = train_test_split(XScaled, y, test_size=0.25, random_state=10)"
   ]
  },
  {
   "cell_type": "markdown",
   "id": "1c28fdd4",
   "metadata": {},
   "source": [
    "# 3. Model Building"
   ]
  },
  {
   "cell_type": "markdown",
   "id": "cb449d35",
   "metadata": {},
   "source": [
    "3.A. Train a base Classification model using SVM."
   ]
  },
  {
   "cell_type": "code",
   "execution_count": 15,
   "id": "177be808",
   "metadata": {},
   "outputs": [],
   "source": [
    "clf = svm.SVC(gamma=0.025, C=3)    "
   ]
  },
  {
   "cell_type": "markdown",
   "id": "02b97c6b",
   "metadata": {},
   "source": [
    "gamma is a measure of influence of a data point. It is inverse of distance of influence. C is penalty of wrong classifications. "
   ]
  },
  {
   "cell_type": "code",
   "execution_count": 16,
   "id": "4f6cd4d2",
   "metadata": {},
   "outputs": [
    {
     "data": {
      "text/plain": [
       "SVC(C=3, gamma=0.025)"
      ]
     },
     "execution_count": 16,
     "metadata": {},
     "output_type": "execute_result"
    }
   ],
   "source": [
    "clf.fit(X_train , y_train)"
   ]
  },
  {
   "cell_type": "code",
   "execution_count": 17,
   "id": "3abb2265",
   "metadata": {},
   "outputs": [],
   "source": [
    "y_pred = clf.predict(X_test)"
   ]
  },
  {
   "cell_type": "code",
   "execution_count": 18,
   "id": "84ed23b8",
   "metadata": {},
   "outputs": [
    {
     "name": "stdout",
     "output_type": "stream",
     "text": [
      "              precision    recall  f1-score   support\n",
      "\n",
      "         bus       0.98      0.97      0.97        58\n",
      "         car       0.99      0.95      0.97       108\n",
      "         van       0.88      0.98      0.93        46\n",
      "\n",
      "    accuracy                           0.96       212\n",
      "   macro avg       0.95      0.97      0.96       212\n",
      "weighted avg       0.96      0.96      0.96       212\n",
      "\n"
     ]
    }
   ],
   "source": [
    "print(metrics.classification_report(y_test, y_pred))"
   ]
  },
  {
   "cell_type": "code",
   "execution_count": 19,
   "id": "b592a2a0",
   "metadata": {},
   "outputs": [
    {
     "name": "stdout",
     "output_type": "stream",
     "text": [
      "Accuracy :  0.9622641509433962\n"
     ]
    }
   ],
   "source": [
    "print (\"Accuracy : \", accuracy_score(y_test, y_pred))"
   ]
  },
  {
   "cell_type": "markdown",
   "id": "e117f878",
   "metadata": {},
   "source": [
    "3.B. Print Classification metrics for train data."
   ]
  },
  {
   "cell_type": "code",
   "execution_count": 20,
   "id": "152af1c0",
   "metadata": {},
   "outputs": [
    {
     "name": "stdout",
     "output_type": "stream",
     "text": [
      "Confusion Matrix:\n",
      " [[ 56   1   0]\n",
      " [  0 103   1]\n",
      " [  2   4  45]]\n"
     ]
    }
   ],
   "source": [
    "print(\"Confusion Matrix:\\n\",confusion_matrix(y_pred,y_test))"
   ]
  },
  {
   "cell_type": "code",
   "execution_count": 21,
   "id": "8419b436",
   "metadata": {},
   "outputs": [
    {
     "data": {
      "image/png": "[encoded data removed]",
      "text/plain": [
       "<Figure size 504x360 with 2 Axes>"
      ]
     },
     "metadata": {
      "needs_background": "light"
     },
     "output_type": "display_data"
    }
   ],
   "source": [
    "cm = confusion_matrix(y_test, y_pred, labels=[\"car\", \"bus\",\"van\"])\n",
    "\n",
    "df_cm = pd.DataFrame(cm, index = [i for i in [\"car\",\"bus\",\"van\"]],\n",
    "                  columns = [i for i in [\"car\",\"bus\",\"van\"]])\n",
    "plt.figure(figsize = (7,5))\n",
    "sns.heatmap(df_cm, annot=True ,fmt='g')\n",
    "plt.show()"
   ]
  },
  {
   "cell_type": "markdown",
   "id": "9dde5949",
   "metadata": {},
   "source": [
    "3.C. Apply PCA on the data with 10 components"
   ]
  },
  {
   "cell_type": "markdown",
   "id": "1546154e",
   "metadata": {},
   "source": [
    " Calculating the covariance between attributes after scaling\n",
    " Covariance tells about information contained in the mathematical space between the independent attributes."
   ]
  },
  {
   "cell_type": "code",
   "execution_count": 22,
   "id": "af7b709f",
   "metadata": {},
   "outputs": [
    {
     "name": "stdout",
     "output_type": "stream",
     "text": [
      "[[ 1.00118343  0.68569786  0.79086299  0.69055952  0.09164265  0.14842463\n",
      "   0.81358214 -0.78968322  0.81465658  0.67694334  0.76297234  0.81497566\n",
      "   0.58593517 -0.24988794  0.23635777  0.15720044  0.29889034  0.36598446]\n",
      " [ 0.68569786  1.00118343  0.79325751  0.6216467   0.15396023  0.25176438\n",
      "   0.8489411  -0.82244387  0.84439802  0.96245572  0.79724837  0.83693508\n",
      "   0.92691166  0.05200785  0.14436828 -0.01145212 -0.10455005  0.04640562]\n",
      " [ 0.79086299  0.79325751  1.00118343  0.76794246  0.15864319  0.26499957\n",
      "   0.90614687 -0.9123854   0.89408198  0.77544391  0.86253904  0.88706577\n",
      "   0.70660663 -0.22621115  0.1140589   0.26586088  0.14627113  0.33312625]\n",
      " [ 0.69055952  0.6216467   0.76794246  1.00118343  0.66423242  0.45058426\n",
      "   0.73529816 -0.79041561  0.70922371  0.56962256  0.79435372  0.71928618\n",
      "   0.53700678 -0.18061084  0.04877032  0.17394649  0.38266622  0.47186659]\n",
      " [ 0.09164265  0.15396023  0.15864319  0.66423242  1.00118343  0.64949139\n",
      "   0.10385472 -0.18325156  0.07969786  0.1270594   0.27323306  0.08929427\n",
      "   0.12211524  0.15313091 -0.05843967 -0.0320139   0.24016968  0.26804208]\n",
      " [ 0.14842463  0.25176438  0.26499957  0.45058426  0.64949139  1.00118343\n",
      "   0.16638787 -0.18035326  0.16169312  0.30630475  0.31933428  0.1434227\n",
      "   0.18996732  0.29608463  0.01561769  0.04347324 -0.02611148  0.14408905]\n",
      " [ 0.81358214  0.8489411   0.90614687  0.73529816  0.10385472  0.16638787\n",
      "   1.00118343 -0.97275069  0.99092181  0.81004084  0.94978498  0.9941867\n",
      "   0.80082111 -0.02757446  0.07454578  0.21267959  0.00563439  0.1189581 ]\n",
      " [-0.78968322 -0.82244387 -0.9123854  -0.79041561 -0.18325156 -0.18035326\n",
      "  -0.97275069  1.00118343 -0.95011894 -0.77677186 -0.93748998 -0.95494487\n",
      "  -0.76722075  0.10342428 -0.05266193 -0.18527244 -0.11526213 -0.2171615 ]\n",
      " [ 0.81465658  0.84439802  0.89408198  0.70922371  0.07969786  0.16169312\n",
      "   0.99092181 -0.95011894  1.00118343  0.81189327  0.93533261  0.98938264\n",
      "   0.79763248 -0.01551372  0.08386628  0.21495454 -0.01867064  0.09940372]\n",
      " [ 0.67694334  0.96245572  0.77544391  0.56962256  0.1270594   0.30630475\n",
      "   0.81004084 -0.77677186  0.81189327  1.00118343  0.74586628  0.79555492\n",
      "   0.86747579  0.04167099  0.13601231  0.00136727 -0.10407076  0.07686047]\n",
      " [ 0.76297234  0.79724837  0.86253904  0.79435372  0.27323306  0.31933428\n",
      "   0.94978498 -0.93748998  0.93533261  0.74586628  1.00118343  0.94679667\n",
      "   0.77983844  0.11321163  0.03677248  0.19446837  0.01423606  0.08579656]\n",
      " [ 0.81497566  0.83693508  0.88706577  0.71928618  0.08929427  0.1434227\n",
      "   0.9941867  -0.95494487  0.98938264  0.79555492  0.94679667  1.00118343\n",
      "   0.79595778 -0.01541878  0.07696823  0.20104818  0.00622636  0.10305714]\n",
      " [ 0.58593517  0.92691166  0.70660663  0.53700678  0.12211524  0.18996732\n",
      "   0.80082111 -0.76722075  0.79763248  0.86747579  0.77983844  0.79595778\n",
      "   1.00118343  0.19169941  0.16667971 -0.05621953 -0.22471583 -0.11814142]\n",
      " [-0.24988794  0.05200785 -0.22621115 -0.18061084  0.15313091  0.29608463\n",
      "  -0.02757446  0.10342428 -0.01551372  0.04167099  0.11321163 -0.01541878\n",
      "   0.19169941  1.00118343 -0.08846001 -0.12633227 -0.749751   -0.80307227]\n",
      " [ 0.23635777  0.14436828  0.1140589   0.04877032 -0.05843967  0.01561769\n",
      "   0.07454578 -0.05266193  0.08386628  0.13601231  0.03677248  0.07696823\n",
      "   0.16667971 -0.08846001  1.00118343 -0.03503155  0.1154338   0.09724079]\n",
      " [ 0.15720044 -0.01145212  0.26586088  0.17394649 -0.0320139   0.04347324\n",
      "   0.21267959 -0.18527244  0.21495454  0.00136727  0.19446837  0.20104818\n",
      "  -0.05621953 -0.12633227 -0.03503155  1.00118343  0.07740174  0.20523257]\n",
      " [ 0.29889034 -0.10455005  0.14627113  0.38266622  0.24016968 -0.02611148\n",
      "   0.00563439 -0.11526213 -0.01867064 -0.10407076  0.01423606  0.00622636\n",
      "  -0.22471583 -0.749751    0.1154338   0.07740174  1.00118343  0.89363767]\n",
      " [ 0.36598446  0.04640562  0.33312625  0.47186659  0.26804208  0.14408905\n",
      "   0.1189581  -0.2171615   0.09940372  0.07686047  0.08579656  0.10305714\n",
      "  -0.11814142 -0.80307227  0.09724079  0.20523257  0.89363767  1.00118343]]\n"
     ]
    }
   ],
   "source": [
    "covMatrix = np.cov(XScaled,rowvar=False)\n",
    "print(covMatrix)"
   ]
  },
  {
   "cell_type": "markdown",
   "id": "56d460d3",
   "metadata": {},
   "source": [
    "Eigenvalues and Eigenvectors"
   ]
  },
  {
   "cell_type": "code",
   "execution_count": 23,
   "id": "63d59a2a",
   "metadata": {},
   "outputs": [
    {
     "name": "stdout",
     "output_type": "stream",
     "text": [
      "Eigen Vectors \n",
      "%s [[ 2.75283688e-01  1.26953763e-01  1.19922479e-01 -7.83843562e-02\n",
      "  -6.95178336e-02  1.44875476e-01  4.51862331e-01  5.66136785e-01\n",
      "   4.84418105e-01  2.60076393e-01 -4.65342885e-02  1.20344026e-02\n",
      "  -1.56136836e-01 -1.00728764e-02 -6.00532537e-03  6.00485194e-02\n",
      "  -6.50956666e-02 -9.67780251e-03]\n",
      " [ 2.93258469e-01 -1.25576727e-01  2.48205467e-02 -1.87337408e-01\n",
      "   8.50649539e-02 -3.02731148e-01 -2.49103387e-01  1.79851809e-01\n",
      "   1.41569001e-02 -9.80779086e-02 -3.01323693e-03 -2.13635088e-01\n",
      "  -1.50116709e-02 -9.15939674e-03  7.38059396e-02 -4.26993118e-01\n",
      "  -2.61244802e-01 -5.97862837e-01]\n",
      " [ 3.04609128e-01  7.29516436e-02  5.60143254e-02  7.12008427e-02\n",
      "  -4.06645651e-02 -1.38405773e-01  7.40350569e-02 -4.34748988e-01\n",
      "   1.67572478e-01  2.05031597e-01 -7.06489498e-01  3.46330345e-04\n",
      "   2.37111452e-01  6.94599696e-03 -2.50791236e-02  1.46240270e-01\n",
      "   7.82651714e-02 -1.57257142e-01]\n",
      " [ 2.67606877e-01  1.89634378e-01 -2.75074211e-01  4.26053415e-02\n",
      "   4.61473714e-02  2.48136636e-01 -1.76912814e-01 -1.01998360e-01\n",
      "   2.30313563e-01  4.77888949e-02  1.07151583e-01 -1.57049977e-01\n",
      "   3.07818692e-02 -4.20156482e-02 -3.59880417e-02 -5.21374718e-01\n",
      "   5.60792139e-01  1.66551725e-01]\n",
      " [ 8.05039890e-02  1.22174860e-01 -6.42012966e-01 -3.27257119e-02\n",
      "   4.05494487e-02  2.36932611e-01 -3.97876601e-01  6.87147927e-02\n",
      "   2.77128307e-01 -1.08075009e-01 -3.85169721e-02  1.10106595e-01\n",
      "   3.92804479e-02  3.12698087e-02  1.25847434e-02  3.63120360e-01\n",
      "  -3.22276873e-01 -6.36138719e-02]\n",
      " [ 9.72756855e-02 -1.07482875e-02 -5.91801304e-01 -3.14147277e-02\n",
      "  -2.13432566e-01 -4.19330747e-01  5.03413610e-01 -1.61153097e-01\n",
      "  -1.48032250e-01  1.18266345e-01  2.62254132e-01 -1.32935328e-01\n",
      "  -3.72884301e-02 -9.99915816e-03 -2.84168792e-02  6.27796802e-02\n",
      "   4.87809642e-02 -8.63169844e-02]\n",
      " [ 3.17092750e-01 -4.81181371e-02  9.76283108e-02  9.57485748e-02\n",
      "   1.54853055e-02  1.16100153e-01  6.49879382e-02 -1.00688056e-01\n",
      "  -5.44574214e-02 -1.65167200e-01  1.70405800e-01  9.55883216e-02\n",
      "  -3.94638419e-02  8.40975659e-01 -2.49652703e-01  6.40502241e-02\n",
      "   1.81839668e-02 -7.98693109e-02]\n",
      " [-3.14133155e-01 -1.27498515e-02 -5.76484384e-02 -8.22901952e-02\n",
      "  -7.68518712e-02 -1.41840112e-01  1.38112945e-02  2.15497166e-01\n",
      "   1.56867362e-01  1.51612333e-01  5.76632611e-02  1.22012715e-01\n",
      "   8.10394855e-01  2.38188639e-01 -4.21478467e-02 -1.86946145e-01\n",
      "  -2.50330194e-02  4.21515054e-02]\n",
      " [ 3.13959064e-01 -5.99352482e-02  1.09512416e-01  9.24582989e-02\n",
      "  -2.17633157e-03  9.80561329e-02  9.66573058e-02 -6.35933915e-02\n",
      "  -5.24978759e-03 -1.93777917e-01  2.72514033e-01  2.51281206e-01\n",
      "   2.71573184e-01 -1.01154594e-01  7.17396292e-01  1.80912790e-01\n",
      "   1.64490784e-01 -1.44490635e-01]\n",
      " [ 2.82830900e-01 -1.16220532e-01  1.70641987e-02 -1.88005612e-01\n",
      "   6.06366845e-02 -4.61674972e-01 -1.04552173e-01  2.49495867e-01\n",
      "   6.10362445e-02 -4.69059999e-01 -1.41434233e-01 -1.24529334e-01\n",
      "   7.57105808e-02 -1.69481636e-02 -4.70233017e-02  1.74070296e-01\n",
      "   1.47280090e-01  5.11259153e-01]\n",
      " [ 3.09280359e-01 -6.22806229e-02 -5.63239801e-02  1.19844008e-01\n",
      "   4.56472367e-04  2.36225434e-01  1.14622578e-01 -5.02096319e-02\n",
      "  -2.97588112e-01  1.29986011e-01 -7.72596638e-02 -2.15011644e-01\n",
      "   1.53180808e-01  6.04665108e-03  1.71503771e-01 -2.77272123e-01\n",
      "  -5.64444637e-01  4.53236855e-01]\n",
      " [ 3.13788457e-01 -5.37843596e-02  1.08840729e-01  9.17449325e-02\n",
      "   1.95548315e-02  1.57820194e-01  8.37350220e-02 -4.37649907e-02\n",
      "  -8.33669838e-02 -1.58203940e-01  2.43226301e-01  1.75685051e-01\n",
      "   3.07948154e-01 -4.69202757e-01 -6.16589383e-01  7.85141734e-02\n",
      "  -6.85856929e-02 -1.26992250e-01]\n",
      " [ 2.72047492e-01 -2.09233172e-01  3.14636493e-02 -2.00095228e-01\n",
      "   6.15991681e-02 -1.35576278e-01 -3.73944382e-01  1.08474496e-01\n",
      "  -2.41655483e-01  6.86493700e-01  1.58888394e-01  1.90336498e-01\n",
      "  -3.76087492e-02  1.17483082e-02 -2.64910290e-02  2.00683948e-01\n",
      "   1.47099233e-01  1.09982525e-01]\n",
      " [-2.08137692e-02 -4.88525148e-01 -2.86277015e-01  6.55051354e-02\n",
      "  -1.45530146e-01  2.41356821e-01  1.11952983e-01  3.40878491e-01\n",
      "  -3.20221887e-01 -1.27648385e-01 -4.19188664e-01  2.85710601e-01\n",
      "  -4.34650674e-02  3.14812146e-03 -1.42959461e-02 -1.46861607e-01\n",
      "   2.32941262e-01 -1.11271959e-01]\n",
      " [ 4.14555082e-02  5.50899716e-02  1.15679354e-01 -6.04794251e-01\n",
      "  -7.29189842e-01  2.03209257e-01 -8.06328902e-02 -1.56487670e-01\n",
      "  -2.21054148e-02 -9.83643219e-02  1.25447648e-02 -1.60327156e-03\n",
      "  -9.94304634e-03 -3.03156233e-03  1.74310271e-03 -1.73360301e-02\n",
      "  -2.77589170e-02  2.40943096e-02]\n",
      " [ 5.82250207e-02  1.24085090e-01  7.52828901e-02  6.66114117e-01\n",
      "  -5.99196401e-01 -1.91960802e-01 -2.84558723e-01  2.08774083e-01\n",
      "  -1.01761758e-02  3.55150608e-02  3.27808069e-02 -8.32589542e-02\n",
      "  -2.68915150e-02 -1.25315953e-02 -7.08894692e-03  3.13689218e-02\n",
      "   2.78187408e-03 -9.89651885e-03]\n",
      " [ 3.02795063e-02  5.40914775e-01 -8.73592034e-03 -1.05526253e-01\n",
      "   1.00602332e-01  1.56939174e-01  1.81451818e-02  3.04580219e-01\n",
      "  -5.17222779e-01 -1.93956186e-02 -1.20597635e-01 -3.53723696e-01\n",
      "   1.86595152e-01  4.34282436e-02  7.67874680e-03  2.31451048e-01\n",
      "   1.90629960e-01 -1.82212045e-01]\n",
      " [ 7.41453913e-02  5.40354258e-01 -3.95242743e-02 -4.74890311e-02\n",
      "   2.98614819e-02 -2.41222817e-01  1.57237839e-02  3.04186304e-02\n",
      "  -1.71506343e-01 -6.41314778e-02 -9.19597847e-02  6.85618161e-01\n",
      "  -1.42380007e-01 -6.47700819e-03  6.37681817e-03 -2.88502234e-01\n",
      "  -1.20966490e-01  9.04014702e-02]]\n",
      "\n",
      " Eigen Values \n",
      "%s [9.40460261e+00 3.01492206e+00 1.90352502e+00 1.17993747e+00\n",
      " 9.17260633e-01 5.39992629e-01 3.58870118e-01 2.21932456e-01\n",
      " 1.60608597e-01 9.18572234e-02 6.64994118e-02 4.66005994e-02\n",
      " 3.57947189e-02 2.96445743e-03 1.00257898e-02 2.74120657e-02\n",
      " 1.79166314e-02 2.05792871e-02]\n"
     ]
    }
   ],
   "source": [
    "#Finding eigenvalues amd eigenvectors\n",
    "eigenvalues, eigenvectors = np.linalg.eig(covMatrix)\n",
    "print('Eigen Vectors \\n%s', eigenvectors)\n",
    "print('\\n Eigen Values \\n%s', eigenvalues)"
   ]
  },
  {
   "cell_type": "code",
   "execution_count": 24,
   "id": "0d189104",
   "metadata": {},
   "outputs": [
    {
     "data": {
      "text/plain": [
       "PCA(n_components=10)"
      ]
     },
     "execution_count": 24,
     "metadata": {},
     "output_type": "execute_result"
    }
   ],
   "source": [
    "pca = PCA(n_components=10)\n",
    "pca.fit(XScaled)"
   ]
  },
  {
   "cell_type": "markdown",
   "id": "e915cfe9",
   "metadata": {},
   "source": [
    "Eigenvalues"
   ]
  },
  {
   "cell_type": "code",
   "execution_count": 25,
   "id": "c3b5876f",
   "metadata": {},
   "outputs": [
    {
     "name": "stdout",
     "output_type": "stream",
     "text": [
      "[9.40460261 3.01492206 1.90352502 1.17993747 0.91726063 0.53999263\n",
      " 0.35887012 0.22193246 0.1606086  0.09185722]\n"
     ]
    }
   ],
   "source": [
    "print(pca.explained_variance_)\n"
   ]
  },
  {
   "cell_type": "markdown",
   "id": "9b0c404f",
   "metadata": {},
   "source": [
    "Eigen Vectors "
   ]
  },
  {
   "cell_type": "code",
   "execution_count": 26,
   "id": "15f7230b",
   "metadata": {},
   "outputs": [
    {
     "name": "stdout",
     "output_type": "stream",
     "text": [
      "[[ 2.75283688e-01  2.93258469e-01  3.04609128e-01  2.67606877e-01\n",
      "   8.05039890e-02  9.72756855e-02  3.17092750e-01 -3.14133155e-01\n",
      "   3.13959064e-01  2.82830900e-01  3.09280359e-01  3.13788457e-01\n",
      "   2.72047492e-01 -2.08137692e-02  4.14555082e-02  5.82250207e-02\n",
      "   3.02795063e-02  7.41453913e-02]\n",
      " [-1.26953763e-01  1.25576727e-01 -7.29516436e-02 -1.89634378e-01\n",
      "  -1.22174860e-01  1.07482875e-02  4.81181371e-02  1.27498515e-02\n",
      "   5.99352482e-02  1.16220532e-01  6.22806229e-02  5.37843596e-02\n",
      "   2.09233172e-01  4.88525148e-01 -5.50899716e-02 -1.24085090e-01\n",
      "  -5.40914775e-01 -5.40354258e-01]\n",
      " [-1.19922479e-01 -2.48205467e-02 -5.60143254e-02  2.75074211e-01\n",
      "   6.42012966e-01  5.91801304e-01 -9.76283108e-02  5.76484384e-02\n",
      "  -1.09512416e-01 -1.70641987e-02  5.63239801e-02 -1.08840729e-01\n",
      "  -3.14636493e-02  2.86277015e-01 -1.15679354e-01 -7.52828901e-02\n",
      "   8.73592034e-03  3.95242743e-02]\n",
      " [ 7.83843562e-02  1.87337408e-01 -7.12008427e-02 -4.26053415e-02\n",
      "   3.27257119e-02  3.14147277e-02 -9.57485748e-02  8.22901952e-02\n",
      "  -9.24582989e-02  1.88005612e-01 -1.19844008e-01 -9.17449325e-02\n",
      "   2.00095228e-01 -6.55051354e-02  6.04794251e-01 -6.66114117e-01\n",
      "   1.05526253e-01  4.74890311e-02]\n",
      " [ 6.95178336e-02 -8.50649539e-02  4.06645651e-02 -4.61473714e-02\n",
      "  -4.05494487e-02  2.13432566e-01 -1.54853055e-02  7.68518712e-02\n",
      "   2.17633157e-03 -6.06366845e-02 -4.56472367e-04 -1.95548315e-02\n",
      "  -6.15991681e-02  1.45530146e-01  7.29189842e-01  5.99196401e-01\n",
      "  -1.00602332e-01 -2.98614819e-02]\n",
      " [ 1.44875476e-01 -3.02731148e-01 -1.38405773e-01  2.48136636e-01\n",
      "   2.36932611e-01 -4.19330747e-01  1.16100153e-01 -1.41840112e-01\n",
      "   9.80561329e-02 -4.61674972e-01  2.36225434e-01  1.57820194e-01\n",
      "  -1.35576278e-01  2.41356821e-01  2.03209257e-01 -1.91960802e-01\n",
      "   1.56939174e-01 -2.41222817e-01]\n",
      " [ 4.51862331e-01 -2.49103387e-01  7.40350569e-02 -1.76912814e-01\n",
      "  -3.97876601e-01  5.03413610e-01  6.49879382e-02  1.38112945e-02\n",
      "   9.66573058e-02 -1.04552173e-01  1.14622578e-01  8.37350220e-02\n",
      "  -3.73944382e-01  1.11952983e-01 -8.06328902e-02 -2.84558723e-01\n",
      "   1.81451818e-02  1.57237839e-02]\n",
      " [-5.66136785e-01 -1.79851809e-01  4.34748988e-01  1.01998360e-01\n",
      "  -6.87147927e-02  1.61153097e-01  1.00688056e-01 -2.15497166e-01\n",
      "   6.35933915e-02 -2.49495867e-01  5.02096319e-02  4.37649907e-02\n",
      "  -1.08474496e-01 -3.40878491e-01  1.56487670e-01 -2.08774083e-01\n",
      "  -3.04580219e-01 -3.04186304e-02]\n",
      " [-4.84418105e-01 -1.41569001e-02 -1.67572478e-01 -2.30313563e-01\n",
      "  -2.77128307e-01  1.48032250e-01  5.44574214e-02 -1.56867362e-01\n",
      "   5.24978759e-03 -6.10362445e-02  2.97588112e-01  8.33669838e-02\n",
      "   2.41655483e-01  3.20221887e-01  2.21054148e-02  1.01761758e-02\n",
      "   5.17222779e-01  1.71506343e-01]\n",
      " [-2.60076393e-01  9.80779086e-02 -2.05031597e-01 -4.77888949e-02\n",
      "   1.08075009e-01 -1.18266345e-01  1.65167200e-01 -1.51612333e-01\n",
      "   1.93777917e-01  4.69059999e-01 -1.29986011e-01  1.58203940e-01\n",
      "  -6.86493700e-01  1.27648385e-01  9.83643219e-02 -3.55150608e-02\n",
      "   1.93956186e-02  6.41314778e-02]]\n"
     ]
    }
   ],
   "source": [
    "print(pca.components_)"
   ]
  },
  {
   "cell_type": "code",
   "execution_count": 27,
   "id": "be3cf9ae",
   "metadata": {},
   "outputs": [
    {
     "name": "stdout",
     "output_type": "stream",
     "text": [
      "[0.52186034 0.16729768 0.10562639 0.0654746  0.05089869 0.02996413\n",
      " 0.01991366 0.01231501 0.00891215 0.00509715]\n"
     ]
    }
   ],
   "source": [
    "print(pca.explained_variance_ratio_)\n"
   ]
  },
  {
   "cell_type": "markdown",
   "id": "7dbbde85",
   "metadata": {},
   "source": [
    "3.D. Visualize Cumulative Variance Explained with Number of Components. "
   ]
  },
  {
   "cell_type": "code",
   "execution_count": 28,
   "id": "b591471d",
   "metadata": {},
   "outputs": [
    {
     "data": {
      "image/png": "[encoded data removed]",
      "text/plain": [
       "<Figure size 432x288 with 1 Axes>"
      ]
     },
     "metadata": {
      "needs_background": "light"
     },
     "output_type": "display_data"
    }
   ],
   "source": [
    "plt.bar(list(range(1,11)),pca.explained_variance_ratio_,alpha=0.5, align='center')\n",
    "plt.ylabel('Variation explained')\n",
    "plt.xlabel('eigen Value')\n",
    "plt.show()"
   ]
  },
  {
   "cell_type": "markdown",
   "id": "72b20923",
   "metadata": {},
   "source": [
    "3.E. Draw a horizontal line on the above plot to highlight the threshold of 90%."
   ]
  },
  {
   "cell_type": "code",
   "execution_count": 30,
   "id": "a333c840",
   "metadata": {},
   "outputs": [
    {
     "data": {
      "image/png": "[encoded data removed]",
      "text/plain": [
       "<Figure size 432x288 with 1 Axes>"
      ]
     },
     "metadata": {
      "needs_background": "light"
     },
     "output_type": "display_data"
    }
   ],
   "source": [
    "plt.step(list(range(1,11)),np.cumsum(pca.explained_variance_ratio_), where='mid')\n",
    "plt.ylabel('Cum of variation explained')\n",
    "plt.xlabel('eigen Value')\n",
    "plt.show()"
   ]
  },
  {
   "cell_type": "markdown",
   "id": "fc57ed05",
   "metadata": {},
   "source": [
    "90 % of the value covered by 6 "
   ]
  },
  {
   "cell_type": "markdown",
   "id": "d1b5bee3",
   "metadata": {},
   "source": [
    "3.F  Apply PCA on the data. This time Select Minimum Components with 90% or above variance explained."
   ]
  },
  {
   "cell_type": "code",
   "execution_count": 31,
   "id": "2f4e346f",
   "metadata": {},
   "outputs": [],
   "source": [
    "pca6 = PCA(n_components=6)\n",
    "pca6.fit(XScaled)\n",
    "Xpca6 = pca6.transform(XScaled)"
   ]
  },
  {
   "cell_type": "code",
   "execution_count": 32,
   "id": "e2e02f71",
   "metadata": {},
   "outputs": [
    {
     "data": {
      "text/plain": [
       "(846, 18)"
      ]
     },
     "execution_count": 32,
     "metadata": {},
     "output_type": "execute_result"
    }
   ],
   "source": [
    "X.shape"
   ]
  },
  {
   "cell_type": "code",
   "execution_count": 33,
   "id": "bd9e84f9",
   "metadata": {},
   "outputs": [
    {
     "data": {
      "text/plain": [
       "(846, 6)"
      ]
     },
     "execution_count": 33,
     "metadata": {},
     "output_type": "execute_result"
    }
   ],
   "source": [
    "Xpca6.shape"
   ]
  },
  {
   "cell_type": "code",
   "execution_count": 34,
   "id": "36967daa",
   "metadata": {},
   "outputs": [],
   "source": [
    "df_pca = pd.DataFrame(Xpca6)"
   ]
  },
  {
   "cell_type": "code",
   "execution_count": 35,
   "id": "17bfedcc",
   "metadata": {},
   "outputs": [
    {
     "data": {
      "text/html": [
       "<div>\n",
       "<style scoped>\n",
       "    .dataframe tbody tr th:only-of-type {\n",
       "        vertical-align: middle;\n",
       "    }\n",
       "\n",
       "    .dataframe tbody tr th {\n",
       "        vertical-align: top;\n",
       "    }\n",
       "\n",
       "    .dataframe thead th {\n",
       "        text-align: right;\n",
       "    }\n",
       "</style>\n",
       "<table border=\"1\" class=\"dataframe\">\n",
       "  <thead>\n",
       "    <tr style=\"text-align: right;\">\n",
       "      <th></th>\n",
       "      <th>0</th>\n",
       "      <th>1</th>\n",
       "      <th>2</th>\n",
       "      <th>3</th>\n",
       "      <th>4</th>\n",
       "      <th>5</th>\n",
       "    </tr>\n",
       "  </thead>\n",
       "  <tbody>\n",
       "    <tr>\n",
       "      <th>0</th>\n",
       "      <td>0.334162</td>\n",
       "      <td>-0.219026</td>\n",
       "      <td>1.001584</td>\n",
       "      <td>0.176612</td>\n",
       "      <td>0.079301</td>\n",
       "      <td>-0.757447</td>\n",
       "    </tr>\n",
       "    <tr>\n",
       "      <th>1</th>\n",
       "      <td>-1.591711</td>\n",
       "      <td>-0.420603</td>\n",
       "      <td>-0.369034</td>\n",
       "      <td>0.233234</td>\n",
       "      <td>0.693949</td>\n",
       "      <td>-0.517162</td>\n",
       "    </tr>\n",
       "    <tr>\n",
       "      <th>2</th>\n",
       "      <td>3.769324</td>\n",
       "      <td>0.195283</td>\n",
       "      <td>0.087859</td>\n",
       "      <td>1.202212</td>\n",
       "      <td>0.731732</td>\n",
       "      <td>0.705041</td>\n",
       "    </tr>\n",
       "    <tr>\n",
       "      <th>3</th>\n",
       "      <td>-1.738598</td>\n",
       "      <td>-2.829692</td>\n",
       "      <td>0.109456</td>\n",
       "      <td>0.376685</td>\n",
       "      <td>-0.362897</td>\n",
       "      <td>-0.484431</td>\n",
       "    </tr>\n",
       "    <tr>\n",
       "      <th>4</th>\n",
       "      <td>0.558103</td>\n",
       "      <td>4.758422</td>\n",
       "      <td>11.703647</td>\n",
       "      <td>0.147464</td>\n",
       "      <td>3.256953</td>\n",
       "      <td>-0.203446</td>\n",
       "    </tr>\n",
       "  </tbody>\n",
       "</table>\n",
       "</div>"
      ],
      "text/plain": [
       "          0         1          2         3         4         5\n",
       "0  0.334162 -0.219026   1.001584  0.176612  0.079301 -0.757447\n",
       "1 -1.591711 -0.420603  -0.369034  0.233234  0.693949 -0.517162\n",
       "2  3.769324  0.195283   0.087859  1.202212  0.731732  0.705041\n",
       "3 -1.738598 -2.829692   0.109456  0.376685 -0.362897 -0.484431\n",
       "4  0.558103  4.758422  11.703647  0.147464  3.256953 -0.203446"
      ]
     },
     "execution_count": 35,
     "metadata": {},
     "output_type": "execute_result"
    }
   ],
   "source": [
    "df_pca.head()"
   ]
  },
  {
   "cell_type": "code",
   "execution_count": 36,
   "id": "a4b2ac76",
   "metadata": {},
   "outputs": [],
   "source": [
    "df_pca['class']=df['class']"
   ]
  },
  {
   "cell_type": "code",
   "execution_count": 37,
   "id": "0c0962f6",
   "metadata": {},
   "outputs": [
    {
     "data": {
      "text/html": [
       "<div>\n",
       "<style scoped>\n",
       "    .dataframe tbody tr th:only-of-type {\n",
       "        vertical-align: middle;\n",
       "    }\n",
       "\n",
       "    .dataframe tbody tr th {\n",
       "        vertical-align: top;\n",
       "    }\n",
       "\n",
       "    .dataframe thead th {\n",
       "        text-align: right;\n",
       "    }\n",
       "</style>\n",
       "<table border=\"1\" class=\"dataframe\">\n",
       "  <thead>\n",
       "    <tr style=\"text-align: right;\">\n",
       "      <th></th>\n",
       "      <th>0</th>\n",
       "      <th>1</th>\n",
       "      <th>2</th>\n",
       "      <th>3</th>\n",
       "      <th>4</th>\n",
       "      <th>5</th>\n",
       "      <th>class</th>\n",
       "    </tr>\n",
       "  </thead>\n",
       "  <tbody>\n",
       "    <tr>\n",
       "      <th>0</th>\n",
       "      <td>0.334162</td>\n",
       "      <td>-0.219026</td>\n",
       "      <td>1.001584</td>\n",
       "      <td>0.176612</td>\n",
       "      <td>0.079301</td>\n",
       "      <td>-0.757447</td>\n",
       "      <td>van</td>\n",
       "    </tr>\n",
       "    <tr>\n",
       "      <th>1</th>\n",
       "      <td>-1.591711</td>\n",
       "      <td>-0.420603</td>\n",
       "      <td>-0.369034</td>\n",
       "      <td>0.233234</td>\n",
       "      <td>0.693949</td>\n",
       "      <td>-0.517162</td>\n",
       "      <td>van</td>\n",
       "    </tr>\n",
       "    <tr>\n",
       "      <th>2</th>\n",
       "      <td>3.769324</td>\n",
       "      <td>0.195283</td>\n",
       "      <td>0.087859</td>\n",
       "      <td>1.202212</td>\n",
       "      <td>0.731732</td>\n",
       "      <td>0.705041</td>\n",
       "      <td>car</td>\n",
       "    </tr>\n",
       "    <tr>\n",
       "      <th>3</th>\n",
       "      <td>-1.738598</td>\n",
       "      <td>-2.829692</td>\n",
       "      <td>0.109456</td>\n",
       "      <td>0.376685</td>\n",
       "      <td>-0.362897</td>\n",
       "      <td>-0.484431</td>\n",
       "      <td>van</td>\n",
       "    </tr>\n",
       "    <tr>\n",
       "      <th>4</th>\n",
       "      <td>0.558103</td>\n",
       "      <td>4.758422</td>\n",
       "      <td>11.703647</td>\n",
       "      <td>0.147464</td>\n",
       "      <td>3.256953</td>\n",
       "      <td>-0.203446</td>\n",
       "      <td>bus</td>\n",
       "    </tr>\n",
       "  </tbody>\n",
       "</table>\n",
       "</div>"
      ],
      "text/plain": [
       "          0         1          2         3         4         5 class\n",
       "0  0.334162 -0.219026   1.001584  0.176612  0.079301 -0.757447   van\n",
       "1 -1.591711 -0.420603  -0.369034  0.233234  0.693949 -0.517162   van\n",
       "2  3.769324  0.195283   0.087859  1.202212  0.731732  0.705041   car\n",
       "3 -1.738598 -2.829692   0.109456  0.376685 -0.362897 -0.484431   van\n",
       "4  0.558103  4.758422  11.703647  0.147464  3.256953 -0.203446   bus"
      ]
     },
     "execution_count": 37,
     "metadata": {},
     "output_type": "execute_result"
    }
   ],
   "source": [
    "df_pca.head()"
   ]
  },
  {
   "cell_type": "markdown",
   "id": "0745a37f",
   "metadata": {},
   "source": [
    "3.G. Train SVM model on components selected from above step. "
   ]
  },
  {
   "cell_type": "code",
   "execution_count": 38,
   "id": "ab7d09a2",
   "metadata": {},
   "outputs": [],
   "source": [
    "X_PCA=df_pca.drop(columns=['class'])\n",
    "y_PCA=df_pca['class'] #target"
   ]
  },
  {
   "cell_type": "code",
   "execution_count": 39,
   "id": "82115f2a",
   "metadata": {},
   "outputs": [],
   "source": [
    "# Split X and y into training and test set in 70:30 ratio\n",
    "X_train_PCA, X_test_PCA, y_train_PCA, y_test_PCA = train_test_split(X_PCA, y_PCA, test_size=0.25, random_state=10)"
   ]
  },
  {
   "cell_type": "code",
   "execution_count": 40,
   "id": "2f6d57f7",
   "metadata": {},
   "outputs": [],
   "source": [
    "clf_pca = svm.SVC(gamma=0.025, C=3)    \n",
    "clf_pca.fit(X_train_PCA , y_train_PCA)\n",
    "y_pred_pca = clf_pca.predict(X_test_PCA)"
   ]
  },
  {
   "cell_type": "code",
   "execution_count": 41,
   "id": "2954a8a4",
   "metadata": {},
   "outputs": [
    {
     "data": {
      "text/plain": [
       "SVC(C=3, gamma=0.025)"
      ]
     },
     "execution_count": 41,
     "metadata": {},
     "output_type": "execute_result"
    }
   ],
   "source": [
    "clf_pca"
   ]
  },
  {
   "cell_type": "code",
   "execution_count": 42,
   "id": "ce0a2735",
   "metadata": {},
   "outputs": [],
   "source": [
    "cm = confusion_matrix(y_test_PCA, y_pred_pca)"
   ]
  },
  {
   "cell_type": "markdown",
   "id": "62e6301d",
   "metadata": {},
   "source": [
    "3.H. Print Classification metrics for train data of above model and share insights. "
   ]
  },
  {
   "cell_type": "code",
   "execution_count": 43,
   "id": "8a5b7770",
   "metadata": {},
   "outputs": [
    {
     "name": "stdout",
     "output_type": "stream",
     "text": [
      "Accuracy :  0.8537735849056604\n"
     ]
    }
   ],
   "source": [
    "print (\"Accuracy : \", accuracy_score(y_test_PCA, y_pred_pca))"
   ]
  },
  {
   "cell_type": "code",
   "execution_count": 46,
   "id": "5a2f1bf1",
   "metadata": {},
   "outputs": [
    {
     "name": "stdout",
     "output_type": "stream",
     "text": [
      "              precision    recall  f1-score   support\n",
      "\n",
      "         bus       0.94      0.76      0.84        58\n",
      "         car       0.85      0.91      0.88       108\n",
      "         van       0.78      0.85      0.81        46\n",
      "\n",
      "    accuracy                           0.85       212\n",
      "   macro avg       0.86      0.84      0.84       212\n",
      "weighted avg       0.86      0.85      0.85       212\n",
      "\n"
     ]
    }
   ],
   "source": [
    "print(metrics.classification_report(y_test_PCA, y_pred_pca))"
   ]
  },
  {
   "cell_type": "code",
   "execution_count": 44,
   "id": "70425302",
   "metadata": {},
   "outputs": [
    {
     "name": "stdout",
     "output_type": "stream",
     "text": [
      "Confusion Matrix:\n",
      " [[44  3  0]\n",
      " [10 98  7]\n",
      " [ 4  7 39]]\n"
     ]
    }
   ],
   "source": [
    "print(\"Confusion Matrix:\\n\",confusion_matrix(y_pred_pca,y_test_PCA))"
   ]
  },
  {
   "cell_type": "code",
   "execution_count": 45,
   "id": "0b8676c1",
   "metadata": {},
   "outputs": [
    {
     "data": {
      "image/png": "[encoded data removed]",
      "text/plain": [
       "<Figure size 504x360 with 2 Axes>"
      ]
     },
     "metadata": {
      "needs_background": "light"
     },
     "output_type": "display_data"
    }
   ],
   "source": [
    "\n",
    "cm = confusion_matrix(y_test_PCA, y_pred_pca, labels=[\"car\", \"bus\",\"van\"])\n",
    "df_cm = pd.DataFrame(cm, index = [i for i in [\"car\",\"bus\",\"van\"]],\n",
    "                  columns = [i for i in [\"car\",\"bus\",\"van\"]])\n",
    "plt.figure(figsize = (7,5))\n",
    "sns.heatmap(df_cm, annot=True ,fmt='g')\n",
    "plt.show()"
   ]
  },
  {
   "cell_type": "markdown",
   "id": "72f0393a",
   "metadata": {},
   "source": [
    "Observation : \n",
    "The accuracy, precision and recall value is reduced after applying PCA because we have reduced the dimensions.\n",
    "Despite giving less accuracy, precision and recall, this model is better as it has taken into consideration the relationship between the independent varibales and reduced the columns which are highly correlated."
   ]
  },
  {
   "cell_type": "markdown",
   "id": "1cd0309c",
   "metadata": {},
   "source": [
    "4. Performance Improvement: "
   ]
  },
  {
   "cell_type": "markdown",
   "id": "bb22c0a9",
   "metadata": {},
   "source": [
    "4.A. Train another SVM on the components out of PCA. Tune the parameters to improve performance. "
   ]
  },
  {
   "cell_type": "code",
   "execution_count": 47,
   "id": "f5a71ae8",
   "metadata": {},
   "outputs": [],
   "source": [
    "from sklearn.model_selection import GridSearchCV"
   ]
  },
  {
   "cell_type": "code",
   "execution_count": 48,
   "id": "e10b9d1c",
   "metadata": {},
   "outputs": [],
   "source": [
    "X_PCA_hp=df_pca.drop(columns=['class'])\n",
    "y_PCA_hp=df_pca['class'] #target"
   ]
  },
  {
   "cell_type": "code",
   "execution_count": 49,
   "id": "fde2d2ec",
   "metadata": {},
   "outputs": [],
   "source": [
    "X_train_PCA_hp, X_test_PCA_hp, y_train_PCA_hp, y_test_PCA_hp = train_test_split(X_PCA_hp,y_PCA_hp, test_size=0.25, random_state=10)"
   ]
  },
  {
   "cell_type": "code",
   "execution_count": 50,
   "id": "8883ac99",
   "metadata": {},
   "outputs": [],
   "source": [
    "svc = svm.SVC()"
   ]
  },
  {
   "cell_type": "code",
   "execution_count": 51,
   "id": "547cc644",
   "metadata": {},
   "outputs": [],
   "source": [
    "parameters ={'C': [1,2,3,4,5.5,6,6.5,7,8,9,10],\n",
    "             'kernel':('linear', 'rbf'),\n",
    "             'gamma': [0.010,0.025,0.030,0.035,0.040,0.045,0.050,0.052,0.053,0.054]\n",
    "    \n",
    "}"
   ]
  },
  {
   "cell_type": "code",
   "execution_count": 52,
   "id": "9cb9e071",
   "metadata": {},
   "outputs": [],
   "source": [
    "clf_hp = GridSearchCV(svc, parameters, cv=10)"
   ]
  },
  {
   "cell_type": "code",
   "execution_count": 53,
   "id": "19d32704",
   "metadata": {},
   "outputs": [
    {
     "data": {
      "text/plain": [
       "GridSearchCV(cv=10, estimator=SVC(),\n",
       "             param_grid={'C': [1, 2, 3, 4, 5.5, 6, 6.5, 7, 8, 9, 10],\n",
       "                         'gamma': [0.01, 0.025, 0.03, 0.035, 0.04, 0.045, 0.05,\n",
       "                                   0.052, 0.053, 0.054],\n",
       "                         'kernel': ('linear', 'rbf')})"
      ]
     },
     "execution_count": 53,
     "metadata": {},
     "output_type": "execute_result"
    }
   ],
   "source": [
    "clf_hp.fit(X_train_PCA_hp, y_train_PCA_hp)"
   ]
  },
  {
   "cell_type": "markdown",
   "id": "adcb807f",
   "metadata": {},
   "source": [
    "4.B. Share best Parameters observed from above step. "
   ]
  },
  {
   "cell_type": "code",
   "execution_count": 54,
   "id": "8b05bfd4",
   "metadata": {},
   "outputs": [
    {
     "name": "stdout",
     "output_type": "stream",
     "text": [
      "Best Hyper Parameters:\n",
      " {'C': 8, 'gamma': 0.052, 'kernel': 'rbf'}\n"
     ]
    }
   ],
   "source": [
    "print(\"Best Hyper Parameters:\\n\", clf_hp.best_params_)"
   ]
  },
  {
   "cell_type": "markdown",
   "id": "771de91f",
   "metadata": {},
   "source": [
    "4.C. Print Classification metrics for train data of above model and share relative improvement in performance in all the models along with\n",
    "insights"
   ]
  },
  {
   "cell_type": "code",
   "execution_count": 55,
   "id": "be16dbf6",
   "metadata": {},
   "outputs": [],
   "source": [
    "model = clf_hp.best_estimator_"
   ]
  },
  {
   "cell_type": "code",
   "execution_count": 56,
   "id": "b6f0d617",
   "metadata": {},
   "outputs": [],
   "source": [
    "pred_hp = model.predict(X_test_PCA_hp)"
   ]
  },
  {
   "cell_type": "code",
   "execution_count": 57,
   "id": "54771b45",
   "metadata": {},
   "outputs": [
    {
     "data": {
      "text/plain": [
       "(212,)"
      ]
     },
     "execution_count": 57,
     "metadata": {},
     "output_type": "execute_result"
    }
   ],
   "source": [
    "pred_hp.shape"
   ]
  },
  {
   "cell_type": "code",
   "execution_count": 58,
   "id": "8b69ee70",
   "metadata": {},
   "outputs": [
    {
     "data": {
      "text/plain": [
       "(212,)"
      ]
     },
     "execution_count": 58,
     "metadata": {},
     "output_type": "execute_result"
    }
   ],
   "source": [
    "y_test_PCA_hp.shape"
   ]
  },
  {
   "cell_type": "code",
   "execution_count": 59,
   "id": "aefa3621",
   "metadata": {},
   "outputs": [
    {
     "name": "stdout",
     "output_type": "stream",
     "text": [
      "              precision    recall  f1-score   support\n",
      "\n",
      "         bus       0.94      0.88      0.91        58\n",
      "         car       0.91      0.92      0.91       108\n",
      "         van       0.84      0.89      0.86        46\n",
      "\n",
      "    accuracy                           0.90       212\n",
      "   macro avg       0.90      0.90      0.90       212\n",
      "weighted avg       0.90      0.90      0.90       212\n",
      "\n"
     ]
    }
   ],
   "source": [
    "print(metrics.classification_report(y_test_PCA_hp, pred_hp))"
   ]
  },
  {
   "cell_type": "markdown",
   "id": "2d2462d5",
   "metadata": {},
   "source": [
    "Without PCA "
   ]
  },
  {
   "cell_type": "code",
   "execution_count": 60,
   "id": "3815a54c",
   "metadata": {},
   "outputs": [
    {
     "name": "stdout",
     "output_type": "stream",
     "text": [
      "              precision    recall  f1-score   support\n",
      "\n",
      "         bus       0.98      0.97      0.97        58\n",
      "         car       0.99      0.95      0.97       108\n",
      "         van       0.88      0.98      0.93        46\n",
      "\n",
      "    accuracy                           0.96       212\n",
      "   macro avg       0.95      0.97      0.96       212\n",
      "weighted avg       0.96      0.96      0.96       212\n",
      "\n"
     ]
    }
   ],
   "source": [
    "print(metrics.classification_report(y_test, y_pred)) "
   ]
  },
  {
   "cell_type": "markdown",
   "id": "43e256d1",
   "metadata": {},
   "source": [
    "With PCA"
   ]
  },
  {
   "cell_type": "code",
   "execution_count": 61,
   "id": "0e1a7d35",
   "metadata": {},
   "outputs": [
    {
     "name": "stdout",
     "output_type": "stream",
     "text": [
      "              precision    recall  f1-score   support\n",
      "\n",
      "         bus       0.94      0.76      0.84        58\n",
      "         car       0.85      0.91      0.88       108\n",
      "         van       0.78      0.85      0.81        46\n",
      "\n",
      "    accuracy                           0.85       212\n",
      "   macro avg       0.86      0.84      0.84       212\n",
      "weighted avg       0.86      0.85      0.85       212\n",
      "\n"
     ]
    }
   ],
   "source": [
    "print(metrics.classification_report(y_test_PCA, y_pred_pca))"
   ]
  },
  {
   "cell_type": "markdown",
   "id": "7252ea28",
   "metadata": {},
   "source": [
    "After Hyper Tuning"
   ]
  },
  {
   "cell_type": "code",
   "execution_count": 62,
   "id": "b86218bc",
   "metadata": {},
   "outputs": [
    {
     "name": "stdout",
     "output_type": "stream",
     "text": [
      "              precision    recall  f1-score   support\n",
      "\n",
      "         bus       0.94      0.88      0.91        58\n",
      "         car       0.91      0.92      0.91       108\n",
      "         van       0.84      0.89      0.86        46\n",
      "\n",
      "    accuracy                           0.90       212\n",
      "   macro avg       0.90      0.90      0.90       212\n",
      "weighted avg       0.90      0.90      0.90       212\n",
      "\n"
     ]
    }
   ],
   "source": [
    "print(metrics.classification_report(y_test_PCA_hp, pred_hp))"
   ]
  },
  {
   "cell_type": "markdown",
   "id": "21663057",
   "metadata": {},
   "source": [
    "Observation : \n",
    " 1.After apply PCA accuracy scored reduced from 96 to 85. But we have reduced the dimensions.\n",
    "Despite giving less accuracy, precision and recall, this model is better as it has taken into consideration the relationship between the independent varibales and reduced the columns which are highly correlated.\n",
    "2. After our hyper tuning parameters using grid serach perfomce incresed from 85 to 90 . "
   ]
  },
  {
   "cell_type": "markdown",
   "id": "c80cfcca",
   "metadata": {},
   "source": [
    "# 5. Data Understanding & Cleaning: "
   ]
  },
  {
   "cell_type": "markdown",
   "id": "8ed438fe",
   "metadata": {},
   "source": [
    "5.A. Explain pre-requisite/assumptions of PCA."
   ]
  },
  {
   "cell_type": "markdown",
   "id": "9603d0fe",
   "metadata": {},
   "source": [
    "1.There must be linearity in the data set, i.e. the variables combine in a linear manner to form the dataset. The variables exhibit relationships among themselves.\n",
    "\n",
    "2.PCA assumes that the principal component with high variance must be paid attention and the PCs with lower variance are disregarded as noise. Pearson correlation coefficient framework led to the origin of PCA, and there it was assumed first that the axes with high variance would only be turned into principal components.\n",
    "\n",
    "3.All variables should be accessed on the same ratio level of measurement. The most preferred norm is at least 150 observations of the sample set with a ratio measurement of 5:1.\n",
    "\n",
    "4.Extreme values that deviate from other data points in any dataset, which are also called outliers, should be less. More number of outliers will represent experimental errors and will degrade your ML model/algorithm.\n",
    "\n",
    "5.The feature set must be correlated and the reduced feature set after applying PCA will represent the original data set but in an effective way with fewer dimensions."
   ]
  },
  {
   "cell_type": "markdown",
   "id": "f3c88570",
   "metadata": {},
   "source": [
    "5.B. Explain advantages and limitations of PCA."
   ]
  },
  {
   "cell_type": "markdown",
   "id": "46491a36",
   "metadata": {},
   "source": [
    "Advantages:"
   ]
  },
  {
   "cell_type": "markdown",
   "id": "e73dceec",
   "metadata": {},
   "source": [
    "1. Removes Correlated Features:\n",
    "2.Improves Algorithm Performance: \n",
    "3. Reduces Overfitting: \n",
    "4. Improves Visualization: "
   ]
  },
  {
   "cell_type": "markdown",
   "id": "89728d05",
   "metadata": {},
   "source": [
    "Limitations"
   ]
  },
  {
   "cell_type": "code",
   "execution_count": null,
   "id": "5873623c",
   "metadata": {},
   "outputs": [],
   "source": [
    "1. Independent variables become less interpretable:\n",
    "2. Data standardization is must before PCA: \n",
    "3. Information Loss: "
   ]
  }
 ],
 "metadata": {
  "kernelspec": {
   "display_name": "Python 3 (ipykernel)",
   "language": "python",
   "name": "python3"
  },
  "language_info": {
   "codemirror_mode": {
    "name": "ipython",
    "version": 3
   },
   "file_extension": ".py",
   "mimetype": "text/x-python",
   "name": "python",
   "nbconvert_exporter": "python",
   "pygments_lexer": "ipython3",
   "version": "3.9.7"
  }
 },
 "nbformat": 4,
 "nbformat_minor": 5
}
